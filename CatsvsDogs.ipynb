{
 "cells": [
  {
   "cell_type": "code",
   "execution_count": 1,
   "id": "0a709f6b-05e3-40e1-9f7a-18416a7a1c3c",
   "metadata": {
    "tags": []
   },
   "outputs": [],
   "source": [
    "import cv2\n",
    "import os\n",
    "import numpy as np"
   ]
  },
  {
   "cell_type": "code",
   "execution_count": 6,
   "id": "2d00303e-43e9-4361-8852-d90bcbd83e49",
   "metadata": {},
   "outputs": [],
   "source": [
    "# Read and resize images\n",
    "import cv2\n",
    "import os\n",
    "\n",
    "# Specify the target size (e.g., 224x224 pixels)\n",
    "target_size = (224, 224)\n",
    "\n",
    "# Define the directory containing your images\n",
    "data_dir = 'data/catsvsdogs/train/cats'\n",
    "\n",
    "# Loop through each image in the directory and resize it\n",
    "for filename in os.listdir(data_dir):\n",
    "    if filename.endswith(\".jpg\"):  # Assuming your images are in JPEG format\n",
    "        img_path = os.path.join(data_dir, filename)\n",
    "        img = cv2.imread(img_path)\n",
    "        img = cv2.resize(img, target_size)\n",
    "        cv2.imwrite(img_path, img)"
   ]
  },
  {
   "cell_type": "code",
   "execution_count": 7,
   "id": "746ed5ba-730b-4dca-8719-5672aac2a68c",
   "metadata": {
    "tags": []
   },
   "outputs": [],
   "source": [
    "# Do the same for rest of the data"
   ]
  },
  {
   "cell_type": "code",
   "execution_count": 8,
   "id": "ee5e2dea-7c7c-4750-b40e-6236a5af0aae",
   "metadata": {
    "tags": []
   },
   "outputs": [],
   "source": [
    "target_size = (224, 224)\n",
    "\n",
    "# Define the directory containing your images\n",
    "data_dir = 'data/catsvsdogs/train/dogs'\n",
    "\n",
    "# Loop through each image in the directory and resize it\n",
    "for filename in os.listdir(data_dir):\n",
    "    if filename.endswith(\".jpg\"):  # Assuming your images are in JPEG format\n",
    "        img_path = os.path.join(data_dir, filename)\n",
    "        img = cv2.imread(img_path)\n",
    "        img = cv2.resize(img, target_size)\n",
    "        cv2.imwrite(img_path, img)"
   ]
  },
  {
   "cell_type": "code",
   "execution_count": 9,
   "id": "8d6fdffd-1737-424d-b62f-20e6466c4840",
   "metadata": {
    "tags": []
   },
   "outputs": [],
   "source": [
    "target_size = (224, 224)\n",
    "\n",
    "# Define the directory containing your images\n",
    "data_dir = 'data/catsvsdogs/test/dogs'\n",
    "\n",
    "# Loop through each image in the directory and resize it\n",
    "for filename in os.listdir(data_dir):\n",
    "    if filename.endswith(\".jpg\"):  # Assuming your images are in JPEG format\n",
    "        img_path = os.path.join(data_dir, filename)\n",
    "        img = cv2.imread(img_path)\n",
    "        img = cv2.resize(img, target_size)\n",
    "        cv2.imwrite(img_path, img)"
   ]
  },
  {
   "cell_type": "code",
   "execution_count": 10,
   "id": "fb88697e-94db-4360-ac8a-3a084b355aee",
   "metadata": {
    "tags": []
   },
   "outputs": [],
   "source": [
    "target_size = (224, 224)\n",
    "\n",
    "# Define the directory containing your images\n",
    "data_dir = 'data/catsvsdogs/test/cats'\n",
    "\n",
    "# Loop through each image in the directory and resize it\n",
    "for filename in os.listdir(data_dir):\n",
    "    if filename.endswith(\".jpg\"):  # Assuming your images are in JPEG format\n",
    "        img_path = os.path.join(data_dir, filename)\n",
    "        img = cv2.imread(img_path)\n",
    "        img = cv2.resize(img, target_size)\n",
    "        cv2.imwrite(img_path, img)"
   ]
  },
  {
   "cell_type": "code",
   "execution_count": 2,
   "id": "4f42a6c8-28a7-4cca-97ce-0a1243dac2ca",
   "metadata": {
    "tags": []
   },
   "outputs": [],
   "source": [
    "import cv2\n",
    "import os\n",
    "\n",
    "# Define the directory containing your images\n",
    "data_dir = 'data/catsvsdogs/train/cats'\n",
    "\n",
    "# Initialize lists to store image data and corresponding labels (if available)\n",
    "train_cats_imgs = []\n",
    "train_dogs_imgs = []\n",
    "test_cats_imgs = []\n",
    "test_dogs_imgs = []\n",
    "\n",
    "# Loop through each image in the directory\n",
    "for filename in os.listdir(data_dir):\n",
    "    if filename.endswith(\".jpg\"):  # Assuming your images are in JPEG format\n",
    "        img_path = os.path.join(data_dir, filename)\n",
    "        img = cv2.imread(img_path)\n",
    "        # Optionally, you can resize the image here if needed\n",
    "        # img = cv2.resize(img, (width, height))\n",
    "        train_cats_imgs.append(img)\n",
    "        # If you have a label associated with the image, add it to the labels list\n",
    "        # labels.append(label)\n",
    "\n",
    "data_dir = 'data/catsvsdogs/train/dogs'\n",
    "for filename in os.listdir(data_dir):\n",
    "    if filename.endswith(\".jpg\"):  # Assuming your images are in JPEG format\n",
    "        img_path = os.path.join(data_dir, filename)\n",
    "        img = cv2.imread(img_path)\n",
    "        train_dogs_imgs.append(img)\n",
    "\n",
    "data_dir = 'data/catsvsdogs/test/dogs'\n",
    "for filename in os.listdir(data_dir):\n",
    "    if filename.endswith(\".jpg\"):  # Assuming your images are in JPEG format\n",
    "        img_path = os.path.join(data_dir, filename)\n",
    "        img = cv2.imread(img_path)\n",
    "        test_dogs_imgs.append(img)\n",
    "        \n",
    "\n",
    "data_dir = 'data/catsvsdogs/test/cats'\n",
    "for filename in os.listdir(data_dir):\n",
    "    if filename.endswith(\".jpg\"):  # Assuming your images are in JPEG format\n",
    "        img_path = os.path.join(data_dir, filename)\n",
    "        img = cv2.imread(img_path)\n",
    "        test_cats_imgs.append(img)\n",
    "\n",
    "# Convert the lists to NumPy arrays if needed\n",
    "train_cats_imgs = np.array(train_cats_imgs)\n",
    "train_dogs_imgs = np.array(train_dogs_imgs)\n",
    "test_cats_imgs = np.array(test_cats_imgs)\n",
    "test_dogs_imgs = np.array(test_dogs_imgs)"
   ]
  },
  {
   "cell_type": "code",
   "execution_count": 3,
   "id": "92436c2d-3424-45fb-9d25-421fd26aa839",
   "metadata": {
    "tags": []
   },
   "outputs": [],
   "source": [
    "# Z-score normalization of the data\n",
    "# might be better if we simply normalized them into a range like 0-1 with a scaler\n",
    "# should work for now"
   ]
  },
  {
   "cell_type": "code",
   "execution_count": 4,
   "id": "30adfdfe-c365-447a-a34a-5001add2d119",
   "metadata": {
    "tags": []
   },
   "outputs": [],
   "source": [
    "# Calculate the mean and standard deviation for the training data (both cats and dogs combined)\n",
    "mean_training = np.mean(np.concatenate((train_cats_imgs, train_dogs_imgs), axis=0), axis=(0, 1, 2))\n",
    "std_training = np.std(np.concatenate((train_cats_imgs, train_dogs_imgs), axis=0), axis=(0, 1, 2))\n",
    "\n",
    "# Normalize both training and test data using the statistics from the training data\n",
    "train_cats_normalized = (train_cats_imgs - mean_training) / std_training\n",
    "train_dogs_normalized = (train_dogs_imgs - mean_training) / std_training\n",
    "\n",
    "test_cats_normalized = (test_cats_imgs - mean_training) / std_training\n",
    "test_dogs_normalized = (test_dogs_imgs - mean_training) / std_training"
   ]
  },
  {
   "cell_type": "code",
   "execution_count": 5,
   "id": "fcc3d6da-027c-400e-b803-d8a6d80866c2",
   "metadata": {
    "tags": []
   },
   "outputs": [],
   "source": [
    "# import keras\n",
    "from keras.models import Sequential\n",
    "from keras.layers import Conv2D, MaxPooling2D, Flatten, Dense, Dropout\n",
    "from keras.optimizers import Adam\n",
    "from keras.regularizers import l2\n",
    "from keras.callbacks import EarlyStopping"
   ]
  },
  {
   "cell_type": "code",
   "execution_count": 6,
   "id": "d3b33ce5-6f43-4daa-a84c-c0f16f9a17fe",
   "metadata": {
    "tags": []
   },
   "outputs": [],
   "source": [
    "# Creating the model\n",
    "\n",
    "model = Sequential()\n",
    "\n",
    "# Convolutional layers with L2 regularization\n",
    "model.add(Conv2D(32, (3, 3), activation='relu', kernel_regularizer=l2(0.01), input_shape=(224, 224, 3)))\n",
    "model.add(MaxPooling2D((2, 2)))\n",
    "model.add(Conv2D(64, (3, 3), activation='relu', kernel_regularizer=l2(0.01)))\n",
    "model.add(MaxPooling2D((2, 2)))\n",
    "model.add(Conv2D(128, (3, 3), activation='relu', kernel_regularizer=l2(0.01)))\n",
    "model.add(MaxPooling2D((2, 2)))\n",
    "\n",
    "# Flatten the output from convolutional layers\n",
    "model.add(Flatten())\n",
    "\n",
    "# Fully connected layers with L2 regularization\n",
    "model.add(Dense(128, activation='relu', kernel_regularizer=l2(0.01)))\n",
    "model.add(Dropout(0.5))\n",
    "model.add(Dense(1, activation='sigmoid', kernel_regularizer=l2(0.01)))  # Output layer for binary classification"
   ]
  },
  {
   "cell_type": "code",
   "execution_count": 7,
   "id": "e0caaf10-89c6-4ffd-bdee-fb0712f9dee1",
   "metadata": {
    "tags": []
   },
   "outputs": [
    {
     "name": "stdout",
     "output_type": "stream",
     "text": [
      "Epoch 1/100\n",
      "18/18 [==============================] - 12s 647ms/step - loss: 4.3382 - accuracy: 0.5081 - val_loss: 3.8960 - val_accuracy: 0.5286\n",
      "Epoch 2/100\n",
      "18/18 [==============================] - 12s 644ms/step - loss: 3.5990 - accuracy: 0.5835 - val_loss: 3.3388 - val_accuracy: 0.5286\n",
      "Epoch 3/100\n",
      "18/18 [==============================] - 12s 643ms/step - loss: 3.0973 - accuracy: 0.6176 - val_loss: 2.9430 - val_accuracy: 0.5500\n",
      "Epoch 4/100\n",
      "18/18 [==============================] - 12s 669ms/step - loss: 2.7334 - accuracy: 0.6732 - val_loss: 2.6753 - val_accuracy: 0.5643\n",
      "Epoch 5/100\n",
      "18/18 [==============================] - 13s 700ms/step - loss: 2.4721 - accuracy: 0.7199 - val_loss: 2.4804 - val_accuracy: 0.5929\n",
      "Epoch 6/100\n",
      "18/18 [==============================] - 12s 685ms/step - loss: 2.3082 - accuracy: 0.7181 - val_loss: 2.3399 - val_accuracy: 0.6071\n",
      "Epoch 7/100\n",
      "18/18 [==============================] - 12s 644ms/step - loss: 2.1706 - accuracy: 0.7002 - val_loss: 2.2202 - val_accuracy: 0.6214\n",
      "Epoch 8/100\n",
      "18/18 [==============================] - 12s 640ms/step - loss: 2.0098 - accuracy: 0.7917 - val_loss: 2.1802 - val_accuracy: 0.5429\n",
      "Epoch 9/100\n",
      "18/18 [==============================] - 12s 647ms/step - loss: 1.8985 - accuracy: 0.7971 - val_loss: 2.0754 - val_accuracy: 0.5857\n",
      "Epoch 10/100\n",
      "18/18 [==============================] - 12s 683ms/step - loss: 1.7953 - accuracy: 0.8330 - val_loss: 2.0059 - val_accuracy: 0.5929\n",
      "Epoch 11/100\n",
      "18/18 [==============================] - 12s 664ms/step - loss: 1.7165 - accuracy: 0.8420 - val_loss: 1.9392 - val_accuracy: 0.6429\n",
      "Epoch 12/100\n",
      "18/18 [==============================] - 12s 662ms/step - loss: 1.6516 - accuracy: 0.8420 - val_loss: 1.8987 - val_accuracy: 0.6071\n",
      "Epoch 13/100\n",
      "18/18 [==============================] - 12s 657ms/step - loss: 1.5863 - accuracy: 0.8671 - val_loss: 1.8656 - val_accuracy: 0.6214\n",
      "Epoch 14/100\n",
      "18/18 [==============================] - 13s 703ms/step - loss: 1.4880 - accuracy: 0.9120 - val_loss: 1.8966 - val_accuracy: 0.6286\n",
      "Epoch 15/100\n",
      "18/18 [==============================] - 13s 749ms/step - loss: 1.4587 - accuracy: 0.8977 - val_loss: 1.8436 - val_accuracy: 0.6214\n",
      "Epoch 16/100\n",
      "18/18 [==============================] - 14s 766ms/step - loss: 1.4034 - accuracy: 0.9048 - val_loss: 1.7890 - val_accuracy: 0.6071\n",
      "Epoch 17/100\n",
      "18/18 [==============================] - 13s 739ms/step - loss: 1.3361 - accuracy: 0.9318 - val_loss: 1.7835 - val_accuracy: 0.6000\n",
      "Epoch 18/100\n",
      "18/18 [==============================] - 13s 722ms/step - loss: 1.3345 - accuracy: 0.9066 - val_loss: 1.7851 - val_accuracy: 0.6500\n",
      "Epoch 19/100\n",
      "18/18 [==============================] - 12s 656ms/step - loss: 1.2885 - accuracy: 0.9264 - val_loss: 1.7387 - val_accuracy: 0.5786\n",
      "Epoch 20/100\n",
      "18/18 [==============================] - 12s 668ms/step - loss: 1.2129 - accuracy: 0.9623 - val_loss: 1.7698 - val_accuracy: 0.6214\n",
      "Epoch 21/100\n",
      "18/18 [==============================] - 12s 667ms/step - loss: 1.1717 - accuracy: 0.9533 - val_loss: 1.7557 - val_accuracy: 0.6286\n",
      "Epoch 22/100\n",
      "18/18 [==============================] - 12s 669ms/step - loss: 1.1271 - accuracy: 0.9677 - val_loss: 1.7707 - val_accuracy: 0.6000\n",
      "Epoch 23/100\n",
      "18/18 [==============================] - 12s 669ms/step - loss: 1.1225 - accuracy: 0.9533 - val_loss: 1.6947 - val_accuracy: 0.5929\n",
      "Epoch 24/100\n",
      "18/18 [==============================] - 12s 661ms/step - loss: 1.0810 - accuracy: 0.9677 - val_loss: 1.7478 - val_accuracy: 0.6143\n",
      "Epoch 25/100\n",
      "18/18 [==============================] - 12s 654ms/step - loss: 1.0417 - accuracy: 0.9838 - val_loss: 1.7087 - val_accuracy: 0.5857\n",
      "Epoch 26/100\n",
      "18/18 [==============================] - 12s 687ms/step - loss: 1.0094 - accuracy: 0.9856 - val_loss: 1.7069 - val_accuracy: 0.6500\n",
      "Epoch 27/100\n",
      "18/18 [==============================] - 12s 679ms/step - loss: 0.9784 - accuracy: 0.9910 - val_loss: 1.7696 - val_accuracy: 0.6357\n",
      "Epoch 28/100\n",
      "18/18 [==============================] - 12s 646ms/step - loss: 0.9706 - accuracy: 0.9856 - val_loss: 1.8603 - val_accuracy: 0.6500\n"
     ]
    }
   ],
   "source": [
    "# Training the model\n",
    "# Define early stopping criteria\n",
    "early_stopping = EarlyStopping(monitor='val_loss', patience=5, restore_best_weights=True)\n",
    "\n",
    "# Compile the model as before\n",
    "model.compile(optimizer=Adam(learning_rate=0.0001),\n",
    "              loss='binary_crossentropy',\n",
    "              metrics=['accuracy'])\n",
    "\n",
    "# Train the model with early stopping\n",
    "history = model.fit(np.concatenate((train_cats_normalized, train_dogs_normalized), axis=0),\n",
    "                    np.concatenate((np.zeros(len(train_cats_normalized)), np.ones(len(train_dogs_normalized)))),\n",
    "                    validation_data=(np.concatenate((test_cats_normalized, test_dogs_normalized), axis=0),\n",
    "                                    np.concatenate((np.zeros(len(test_cats_normalized)), np.ones(len(test_dogs_normalized))))),\n",
    "                    epochs=100,  # Adjust as needed\n",
    "                    batch_size=32,  # Adjust as needed\n",
    "                    callbacks=[early_stopping])  # Use early stopping"
   ]
  },
  {
   "cell_type": "code",
   "execution_count": 8,
   "id": "bdb87943-2a4e-47be-a896-eda4de272e79",
   "metadata": {
    "tags": []
   },
   "outputs": [
    {
     "name": "stdout",
     "output_type": "stream",
     "text": [
      "5/5 [==============================] - 1s 106ms/step - loss: 0.6929 - accuracy: 0.5929\n",
      "Test Accuracy: 0.5928571224212646\n"
     ]
    }
   ],
   "source": [
    "test_loss, test_accuracy = model.evaluate(np.concatenate((test_cats_normalized, test_dogs_normalized), axis=0),\n",
    "                                          np.concatenate((np.zeros(len(test_cats_normalized)), np.ones(len(test_dogs_normalized)))))\n",
    "print(f'Test Accuracy: {test_accuracy}')"
   ]
  },
  {
   "cell_type": "code",
   "execution_count": null,
   "id": "a4db0994-0626-4137-8d4d-05889784539b",
   "metadata": {},
   "outputs": [],
   "source": []
  }
 ],
 "metadata": {
  "kernelspec": {
   "display_name": "Python 3 (ipykernel)",
   "language": "python",
   "name": "python3"
  },
  "language_info": {
   "codemirror_mode": {
    "name": "ipython",
    "version": 3
   },
   "file_extension": ".py",
   "mimetype": "text/x-python",
   "name": "python",
   "nbconvert_exporter": "python",
   "pygments_lexer": "ipython3",
   "version": "3.11.4"
  }
 },
 "nbformat": 4,
 "nbformat_minor": 5
}
